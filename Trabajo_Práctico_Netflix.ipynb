{
  "cells": [
    {
      "cell_type": "markdown",
      "metadata": {
        "id": "view-in-github",
        "colab_type": "text"
      },
      "source": [
        "<a href=\"https://colab.research.google.com/github/Alan-Yeger/TP_Chona_Netflix/blob/main/Trabajo_Pr%C3%A1ctico_Netflix.ipynb\" target=\"_parent\"><img src=\"https://colab.research.google.com/assets/colab-badge.svg\" alt=\"Open In Colab\"/></a>"
      ]
    },
    {
      "cell_type": "code",
      "execution_count": null,
      "metadata": {
        "id": "pV2ytblDAbYd"
      },
      "outputs": [],
      "source": [
        "#Importamos las librerías necesarias\n",
        "import numpy as np\n",
        "import pandas as pd\n",
        "import matplotlib.pyplot as plt\n",
        "import seaborn as sns\n",
        "import heapq"
      ]
    },
    {
      "cell_type": "code",
      "execution_count": null,
      "metadata": {
        "colab": {
          "base_uri": "https://localhost:8080/"
        },
        "id": "jayobTHNCmpt",
        "outputId": "f3334aa4-4b3a-4b3a-f3e3-87d52f16ff32"
      },
      "outputs": [
        {
          "output_type": "stream",
          "name": "stdout",
          "text": [
            "       Unnamed: 0 Profile Name           Start Time  Duration Attributes  \\\n",
            "0               0        Chona  2022-08-21 19:54:53  00:02:54        NaN   \n",
            "1               1        Chona  2022-08-21 19:33:17  00:21:33        NaN   \n",
            "2               2        Chona  2022-08-21 19:11:40  00:21:28        NaN   \n",
            "3               3        Chona  2022-08-21 18:50:27  00:20:41        NaN   \n",
            "4               4        Chona  2022-08-21 18:16:34  00:21:20        NaN   \n",
            "...           ...          ...                  ...       ...        ...   \n",
            "12992       12992        Chona  2015-01-08 19:21:21  00:04:09        NaN   \n",
            "12993       12993        Chona  2015-01-08 19:20:47  00:00:15        NaN   \n",
            "12994       12994        Chona  2015-01-08 19:18:32  00:00:37        NaN   \n",
            "12995       12995        Chona  2015-01-08 19:16:45  00:00:18        NaN   \n",
            "12996       12996        Chona  2015-01-08 19:15:14  00:00:18        NaN   \n",
            "\n",
            "                                                   Title  \\\n",
            "0      Community: Temporada 3: Teoría del caos correc...   \n",
            "1      Community: Temporada 3: Ecología competitiva (...   \n",
            "2      Community: Temporada 3: Geografía del conflict...   \n",
            "3      Community: Temporada 2: Intermediate Documenta...   \n",
            "4      Community: Temporada 3: El documental (Capítul...   \n",
            "...                                                  ...   \n",
            "12992    Lost: Temporada 1: Éxodo: Parte 1 (Capítulo 23)   \n",
            "12993  Lost: Temporada 1: Nacida para correr (Capítul...   \n",
            "12994    Lost: Temporada 1: Éxodo: Parte 1 (Capítulo 23)   \n",
            "12995    Lost: Temporada 1: Éxodo: Parte 1 (Capítulo 23)   \n",
            "12996    Lost: Temporada 1: Éxodo: Parte 1 (Capítulo 23)   \n",
            "\n",
            "      Supplemental Video Type                Device Type  Bookmark  \\\n",
            "0                         NaN  Apple Apple TV 4 Apple TV  00:02:55   \n",
            "1                         NaN  Apple Apple TV 4 Apple TV  00:21:33   \n",
            "2                         NaN  Apple Apple TV 4 Apple TV  00:21:28   \n",
            "3                         NaN  Apple Apple TV 4 Apple TV  00:21:02   \n",
            "4                         NaN  Apple Apple TV 4 Apple TV  00:21:21   \n",
            "...                       ...                        ...       ...   \n",
            "12992                     NaN       Apple TV 3 (revised)  00:04:40   \n",
            "12993                     NaN       Apple TV 3 (revised)  00:00:14   \n",
            "12994                     NaN       Apple TV 3 (revised)  00:00:37   \n",
            "12995                     NaN       Apple TV 3 (revised)  00:00:18   \n",
            "12996                     NaN       Apple TV 3 (revised)  00:00:18   \n",
            "\n",
            "       Latest Bookmark         Country  \n",
            "0             00:02:55  AR (Argentina)  \n",
            "1             00:21:33  AR (Argentina)  \n",
            "2             00:21:28  AR (Argentina)  \n",
            "3             00:21:02  AR (Argentina)  \n",
            "4             00:21:21  AR (Argentina)  \n",
            "...                ...             ...  \n",
            "12992  Not latest view  AR (Argentina)  \n",
            "12993  Not latest view  AR (Argentina)  \n",
            "12994  Not latest view  AR (Argentina)  \n",
            "12995  Not latest view  AR (Argentina)  \n",
            "12996  Not latest view  AR (Argentina)  \n",
            "\n",
            "[12997 rows x 11 columns]\n"
          ]
        }
      ],
      "source": [
        "#Leemos el csv y lo guardamos en una variable\n",
        "df = pd.read_csv (r'NetflixHistory.csv')\n",
        "print (df)"
      ]
    },
    {
      "cell_type": "markdown",
      "metadata": {
        "id": "_-UA3Qu1EdiM"
      },
      "source": [
        "##Ignorar dispositivos"
      ]
    },
    {
      "cell_type": "code",
      "execution_count": null,
      "metadata": {
        "id": "O0e-IQwVEpgG"
      },
      "outputs": [],
      "source": [
        "#Creamos una función que te devuelve los dispositivos de Chona\n",
        "def distintoChona(disp):\n",
        "  return disp not in ['Sony PS4', 'Netflix Windows App - Cadmium Windows Mobile', 'Apple iPhone 6s', 'Apple iPhone 7 Plus (CDMA)', 'Chrome PC (Cadmium)', 'Samsung 2015 NT14M DTV Smart TV', 'iPhone 5S GSM', 'Google Chromecast V3 Streaming Stick']"
      ]
    },
    {
      "cell_type": "code",
      "execution_count": null,
      "metadata": {
        "colab": {
          "base_uri": "https://localhost:8080/",
          "height": 424
        },
        "id": "qbTBOFCcFYkt",
        "outputId": "f467c2ae-e819-4515-b14f-03967bb8d575"
      },
      "outputs": [
        {
          "output_type": "execute_result",
          "data": {
            "text/plain": [
              "       Unnamed: 0 Profile Name           Start Time  Duration Attributes  \\\n",
              "0               0        Chona  2022-08-21 19:54:53  00:02:54        NaN   \n",
              "1               1        Chona  2022-08-21 19:33:17  00:21:33        NaN   \n",
              "2               2        Chona  2022-08-21 19:11:40  00:21:28        NaN   \n",
              "3               3        Chona  2022-08-21 18:50:27  00:20:41        NaN   \n",
              "4               4        Chona  2022-08-21 18:16:34  00:21:20        NaN   \n",
              "...           ...          ...                  ...       ...        ...   \n",
              "12992       12992        Chona  2015-01-08 19:21:21  00:04:09        NaN   \n",
              "12993       12993        Chona  2015-01-08 19:20:47  00:00:15        NaN   \n",
              "12994       12994        Chona  2015-01-08 19:18:32  00:00:37        NaN   \n",
              "12995       12995        Chona  2015-01-08 19:16:45  00:00:18        NaN   \n",
              "12996       12996        Chona  2015-01-08 19:15:14  00:00:18        NaN   \n",
              "\n",
              "                                                   Title  \\\n",
              "0      Community: Temporada 3: Teoría del caos correc...   \n",
              "1      Community: Temporada 3: Ecología competitiva (...   \n",
              "2      Community: Temporada 3: Geografía del conflict...   \n",
              "3      Community: Temporada 2: Intermediate Documenta...   \n",
              "4      Community: Temporada 3: El documental (Capítul...   \n",
              "...                                                  ...   \n",
              "12992    Lost: Temporada 1: Éxodo: Parte 1 (Capítulo 23)   \n",
              "12993  Lost: Temporada 1: Nacida para correr (Capítul...   \n",
              "12994    Lost: Temporada 1: Éxodo: Parte 1 (Capítulo 23)   \n",
              "12995    Lost: Temporada 1: Éxodo: Parte 1 (Capítulo 23)   \n",
              "12996    Lost: Temporada 1: Éxodo: Parte 1 (Capítulo 23)   \n",
              "\n",
              "      Supplemental Video Type                Device Type  Bookmark  \\\n",
              "0                         NaN  Apple Apple TV 4 Apple TV  00:02:55   \n",
              "1                         NaN  Apple Apple TV 4 Apple TV  00:21:33   \n",
              "2                         NaN  Apple Apple TV 4 Apple TV  00:21:28   \n",
              "3                         NaN  Apple Apple TV 4 Apple TV  00:21:02   \n",
              "4                         NaN  Apple Apple TV 4 Apple TV  00:21:21   \n",
              "...                       ...                        ...       ...   \n",
              "12992                     NaN       Apple TV 3 (revised)  00:04:40   \n",
              "12993                     NaN       Apple TV 3 (revised)  00:00:14   \n",
              "12994                     NaN       Apple TV 3 (revised)  00:00:37   \n",
              "12995                     NaN       Apple TV 3 (revised)  00:00:18   \n",
              "12996                     NaN       Apple TV 3 (revised)  00:00:18   \n",
              "\n",
              "       Latest Bookmark         Country  \n",
              "0             00:02:55  AR (Argentina)  \n",
              "1             00:21:33  AR (Argentina)  \n",
              "2             00:21:28  AR (Argentina)  \n",
              "3             00:21:02  AR (Argentina)  \n",
              "4             00:21:21  AR (Argentina)  \n",
              "...                ...             ...  \n",
              "12992  Not latest view  AR (Argentina)  \n",
              "12993  Not latest view  AR (Argentina)  \n",
              "12994  Not latest view  AR (Argentina)  \n",
              "12995  Not latest view  AR (Argentina)  \n",
              "12996  Not latest view  AR (Argentina)  \n",
              "\n",
              "[6291 rows x 11 columns]"
            ],
            "text/html": [
              "\n",
              "  <div id=\"df-46388981-4782-42f2-b9af-c53c12ccd5aa\">\n",
              "    <div class=\"colab-df-container\">\n",
              "      <div>\n",
              "<style scoped>\n",
              "    .dataframe tbody tr th:only-of-type {\n",
              "        vertical-align: middle;\n",
              "    }\n",
              "\n",
              "    .dataframe tbody tr th {\n",
              "        vertical-align: top;\n",
              "    }\n",
              "\n",
              "    .dataframe thead th {\n",
              "        text-align: right;\n",
              "    }\n",
              "</style>\n",
              "<table border=\"1\" class=\"dataframe\">\n",
              "  <thead>\n",
              "    <tr style=\"text-align: right;\">\n",
              "      <th></th>\n",
              "      <th>Unnamed: 0</th>\n",
              "      <th>Profile Name</th>\n",
              "      <th>Start Time</th>\n",
              "      <th>Duration</th>\n",
              "      <th>Attributes</th>\n",
              "      <th>Title</th>\n",
              "      <th>Supplemental Video Type</th>\n",
              "      <th>Device Type</th>\n",
              "      <th>Bookmark</th>\n",
              "      <th>Latest Bookmark</th>\n",
              "      <th>Country</th>\n",
              "    </tr>\n",
              "  </thead>\n",
              "  <tbody>\n",
              "    <tr>\n",
              "      <th>0</th>\n",
              "      <td>0</td>\n",
              "      <td>Chona</td>\n",
              "      <td>2022-08-21 19:54:53</td>\n",
              "      <td>00:02:54</td>\n",
              "      <td>NaN</td>\n",
              "      <td>Community: Temporada 3: Teoría del caos correc...</td>\n",
              "      <td>NaN</td>\n",
              "      <td>Apple Apple TV 4 Apple TV</td>\n",
              "      <td>00:02:55</td>\n",
              "      <td>00:02:55</td>\n",
              "      <td>AR (Argentina)</td>\n",
              "    </tr>\n",
              "    <tr>\n",
              "      <th>1</th>\n",
              "      <td>1</td>\n",
              "      <td>Chona</td>\n",
              "      <td>2022-08-21 19:33:17</td>\n",
              "      <td>00:21:33</td>\n",
              "      <td>NaN</td>\n",
              "      <td>Community: Temporada 3: Ecología competitiva (...</td>\n",
              "      <td>NaN</td>\n",
              "      <td>Apple Apple TV 4 Apple TV</td>\n",
              "      <td>00:21:33</td>\n",
              "      <td>00:21:33</td>\n",
              "      <td>AR (Argentina)</td>\n",
              "    </tr>\n",
              "    <tr>\n",
              "      <th>2</th>\n",
              "      <td>2</td>\n",
              "      <td>Chona</td>\n",
              "      <td>2022-08-21 19:11:40</td>\n",
              "      <td>00:21:28</td>\n",
              "      <td>NaN</td>\n",
              "      <td>Community: Temporada 3: Geografía del conflict...</td>\n",
              "      <td>NaN</td>\n",
              "      <td>Apple Apple TV 4 Apple TV</td>\n",
              "      <td>00:21:28</td>\n",
              "      <td>00:21:28</td>\n",
              "      <td>AR (Argentina)</td>\n",
              "    </tr>\n",
              "    <tr>\n",
              "      <th>3</th>\n",
              "      <td>3</td>\n",
              "      <td>Chona</td>\n",
              "      <td>2022-08-21 18:50:27</td>\n",
              "      <td>00:20:41</td>\n",
              "      <td>NaN</td>\n",
              "      <td>Community: Temporada 2: Intermediate Documenta...</td>\n",
              "      <td>NaN</td>\n",
              "      <td>Apple Apple TV 4 Apple TV</td>\n",
              "      <td>00:21:02</td>\n",
              "      <td>00:21:02</td>\n",
              "      <td>AR (Argentina)</td>\n",
              "    </tr>\n",
              "    <tr>\n",
              "      <th>4</th>\n",
              "      <td>4</td>\n",
              "      <td>Chona</td>\n",
              "      <td>2022-08-21 18:16:34</td>\n",
              "      <td>00:21:20</td>\n",
              "      <td>NaN</td>\n",
              "      <td>Community: Temporada 3: El documental (Capítul...</td>\n",
              "      <td>NaN</td>\n",
              "      <td>Apple Apple TV 4 Apple TV</td>\n",
              "      <td>00:21:21</td>\n",
              "      <td>00:21:21</td>\n",
              "      <td>AR (Argentina)</td>\n",
              "    </tr>\n",
              "    <tr>\n",
              "      <th>...</th>\n",
              "      <td>...</td>\n",
              "      <td>...</td>\n",
              "      <td>...</td>\n",
              "      <td>...</td>\n",
              "      <td>...</td>\n",
              "      <td>...</td>\n",
              "      <td>...</td>\n",
              "      <td>...</td>\n",
              "      <td>...</td>\n",
              "      <td>...</td>\n",
              "      <td>...</td>\n",
              "    </tr>\n",
              "    <tr>\n",
              "      <th>12992</th>\n",
              "      <td>12992</td>\n",
              "      <td>Chona</td>\n",
              "      <td>2015-01-08 19:21:21</td>\n",
              "      <td>00:04:09</td>\n",
              "      <td>NaN</td>\n",
              "      <td>Lost: Temporada 1: Éxodo: Parte 1 (Capítulo 23)</td>\n",
              "      <td>NaN</td>\n",
              "      <td>Apple TV 3 (revised)</td>\n",
              "      <td>00:04:40</td>\n",
              "      <td>Not latest view</td>\n",
              "      <td>AR (Argentina)</td>\n",
              "    </tr>\n",
              "    <tr>\n",
              "      <th>12993</th>\n",
              "      <td>12993</td>\n",
              "      <td>Chona</td>\n",
              "      <td>2015-01-08 19:20:47</td>\n",
              "      <td>00:00:15</td>\n",
              "      <td>NaN</td>\n",
              "      <td>Lost: Temporada 1: Nacida para correr (Capítul...</td>\n",
              "      <td>NaN</td>\n",
              "      <td>Apple TV 3 (revised)</td>\n",
              "      <td>00:00:14</td>\n",
              "      <td>Not latest view</td>\n",
              "      <td>AR (Argentina)</td>\n",
              "    </tr>\n",
              "    <tr>\n",
              "      <th>12994</th>\n",
              "      <td>12994</td>\n",
              "      <td>Chona</td>\n",
              "      <td>2015-01-08 19:18:32</td>\n",
              "      <td>00:00:37</td>\n",
              "      <td>NaN</td>\n",
              "      <td>Lost: Temporada 1: Éxodo: Parte 1 (Capítulo 23)</td>\n",
              "      <td>NaN</td>\n",
              "      <td>Apple TV 3 (revised)</td>\n",
              "      <td>00:00:37</td>\n",
              "      <td>Not latest view</td>\n",
              "      <td>AR (Argentina)</td>\n",
              "    </tr>\n",
              "    <tr>\n",
              "      <th>12995</th>\n",
              "      <td>12995</td>\n",
              "      <td>Chona</td>\n",
              "      <td>2015-01-08 19:16:45</td>\n",
              "      <td>00:00:18</td>\n",
              "      <td>NaN</td>\n",
              "      <td>Lost: Temporada 1: Éxodo: Parte 1 (Capítulo 23)</td>\n",
              "      <td>NaN</td>\n",
              "      <td>Apple TV 3 (revised)</td>\n",
              "      <td>00:00:18</td>\n",
              "      <td>Not latest view</td>\n",
              "      <td>AR (Argentina)</td>\n",
              "    </tr>\n",
              "    <tr>\n",
              "      <th>12996</th>\n",
              "      <td>12996</td>\n",
              "      <td>Chona</td>\n",
              "      <td>2015-01-08 19:15:14</td>\n",
              "      <td>00:00:18</td>\n",
              "      <td>NaN</td>\n",
              "      <td>Lost: Temporada 1: Éxodo: Parte 1 (Capítulo 23)</td>\n",
              "      <td>NaN</td>\n",
              "      <td>Apple TV 3 (revised)</td>\n",
              "      <td>00:00:18</td>\n",
              "      <td>Not latest view</td>\n",
              "      <td>AR (Argentina)</td>\n",
              "    </tr>\n",
              "  </tbody>\n",
              "</table>\n",
              "<p>6291 rows × 11 columns</p>\n",
              "</div>\n",
              "      <button class=\"colab-df-convert\" onclick=\"convertToInteractive('df-46388981-4782-42f2-b9af-c53c12ccd5aa')\"\n",
              "              title=\"Convert this dataframe to an interactive table.\"\n",
              "              style=\"display:none;\">\n",
              "        \n",
              "  <svg xmlns=\"http://www.w3.org/2000/svg\" height=\"24px\"viewBox=\"0 0 24 24\"\n",
              "       width=\"24px\">\n",
              "    <path d=\"M0 0h24v24H0V0z\" fill=\"none\"/>\n",
              "    <path d=\"M18.56 5.44l.94 2.06.94-2.06 2.06-.94-2.06-.94-.94-2.06-.94 2.06-2.06.94zm-11 1L8.5 8.5l.94-2.06 2.06-.94-2.06-.94L8.5 2.5l-.94 2.06-2.06.94zm10 10l.94 2.06.94-2.06 2.06-.94-2.06-.94-.94-2.06-.94 2.06-2.06.94z\"/><path d=\"M17.41 7.96l-1.37-1.37c-.4-.4-.92-.59-1.43-.59-.52 0-1.04.2-1.43.59L10.3 9.45l-7.72 7.72c-.78.78-.78 2.05 0 2.83L4 21.41c.39.39.9.59 1.41.59.51 0 1.02-.2 1.41-.59l7.78-7.78 2.81-2.81c.8-.78.8-2.07 0-2.86zM5.41 20L4 18.59l7.72-7.72 1.47 1.35L5.41 20z\"/>\n",
              "  </svg>\n",
              "      </button>\n",
              "      \n",
              "  <style>\n",
              "    .colab-df-container {\n",
              "      display:flex;\n",
              "      flex-wrap:wrap;\n",
              "      gap: 12px;\n",
              "    }\n",
              "\n",
              "    .colab-df-convert {\n",
              "      background-color: #E8F0FE;\n",
              "      border: none;\n",
              "      border-radius: 50%;\n",
              "      cursor: pointer;\n",
              "      display: none;\n",
              "      fill: #1967D2;\n",
              "      height: 32px;\n",
              "      padding: 0 0 0 0;\n",
              "      width: 32px;\n",
              "    }\n",
              "\n",
              "    .colab-df-convert:hover {\n",
              "      background-color: #E2EBFA;\n",
              "      box-shadow: 0px 1px 2px rgba(60, 64, 67, 0.3), 0px 1px 3px 1px rgba(60, 64, 67, 0.15);\n",
              "      fill: #174EA6;\n",
              "    }\n",
              "\n",
              "    [theme=dark] .colab-df-convert {\n",
              "      background-color: #3B4455;\n",
              "      fill: #D2E3FC;\n",
              "    }\n",
              "\n",
              "    [theme=dark] .colab-df-convert:hover {\n",
              "      background-color: #434B5C;\n",
              "      box-shadow: 0px 1px 3px 1px rgba(0, 0, 0, 0.15);\n",
              "      filter: drop-shadow(0px 1px 2px rgba(0, 0, 0, 0.3));\n",
              "      fill: #FFFFFF;\n",
              "    }\n",
              "  </style>\n",
              "\n",
              "      <script>\n",
              "        const buttonEl =\n",
              "          document.querySelector('#df-46388981-4782-42f2-b9af-c53c12ccd5aa button.colab-df-convert');\n",
              "        buttonEl.style.display =\n",
              "          google.colab.kernel.accessAllowed ? 'block' : 'none';\n",
              "\n",
              "        async function convertToInteractive(key) {\n",
              "          const element = document.querySelector('#df-46388981-4782-42f2-b9af-c53c12ccd5aa');\n",
              "          const dataTable =\n",
              "            await google.colab.kernel.invokeFunction('convertToInteractive',\n",
              "                                                     [key], {});\n",
              "          if (!dataTable) return;\n",
              "\n",
              "          const docLinkHtml = 'Like what you see? Visit the ' +\n",
              "            '<a target=\"_blank\" href=https://colab.research.google.com/notebooks/data_table.ipynb>data table notebook</a>'\n",
              "            + ' to learn more about interactive tables.';\n",
              "          element.innerHTML = '';\n",
              "          dataTable['output_type'] = 'display_data';\n",
              "          await google.colab.output.renderOutput(dataTable, element);\n",
              "          const docLink = document.createElement('div');\n",
              "          docLink.innerHTML = docLinkHtml;\n",
              "          element.appendChild(docLink);\n",
              "        }\n",
              "      </script>\n",
              "    </div>\n",
              "  </div>\n",
              "  "
            ]
          },
          "metadata": {},
          "execution_count": 431
        }
      ],
      "source": [
        "#Le aplicamos la función al dataFrame\n",
        "df = df[df['Device Type'].apply(distintoChona)]\n",
        "df"
      ]
    },
    {
      "cell_type": "markdown",
      "metadata": {
        "id": "g9HhnzEHEbm_"
      },
      "source": [
        "##A)"
      ]
    },
    {
      "cell_type": "code",
      "execution_count": null,
      "metadata": {
        "colab": {
          "base_uri": "https://localhost:8080/"
        },
        "id": "ZhEex-yQH7yg",
        "outputId": "0318004d-15a7-49f5-8430-9641bb04cd7e"
      },
      "outputs": [
        {
          "output_type": "execute_result",
          "data": {
            "text/plain": [
              "Apple Apple TV 4 Apple TV                         3519\n",
              "Apple TV 3 (revised)                              1216\n",
              "Netflix Chrome MAC (Cadmium) HTML 5                449\n",
              "Safari MAC (Cadmium)                               270\n",
              "Apple iPhone 4S                                    259\n",
              "Apple iPod Touch 5G                                220\n",
              "Wii Bowser                                          99\n",
              "LG 2016 LG M16 STD RGBW UHD TV Smart TV             91\n",
              "Apple iPad 3                                        73\n",
              "Apple iPhone 11 Pro                                 39\n",
              "LG 2016 MStar M2 Low DTV Smart TV                   39\n",
              "Apple iPad 3rd Gen (Wi-Fi Only) iPad                12\n",
              "LG 2017 LG M16p Standard UHD TV Smart TV             3\n",
              "Apple iPhone 13 Mini                                 1\n",
              "Android DefaultWidevineL3Tablet Android Tablet       1\n",
              "Name: Device Type, dtype: int64"
            ]
          },
          "metadata": {},
          "execution_count": 432
        }
      ],
      "source": [
        "#Contamos la cantidad de veces que aparece cada dispositivo\n",
        "masUsado= df['Device Type'].value_counts()\n",
        "masUsado"
      ]
    },
    {
      "cell_type": "code",
      "execution_count": null,
      "metadata": {
        "colab": {
          "base_uri": "https://localhost:8080/"
        },
        "id": "-QLPfaZulZLj",
        "outputId": "ec0bf0b7-0259-4135-b418-c3a9cc95e4c0"
      },
      "outputs": [
        {
          "output_type": "stream",
          "name": "stdout",
          "text": [
            "El dispositivo más usado es Apple Apple TV 4 Apple TV\n"
          ]
        }
      ],
      "source": [
        "#Tomamos y mostramos el dispositivo más usado\n",
        "print('El dispositivo más usado es', masUsado.idxmax())"
      ]
    },
    {
      "cell_type": "markdown",
      "metadata": {
        "id": "XhRTeanaK_oa"
      },
      "source": [
        "##B)"
      ]
    },
    {
      "cell_type": "code",
      "execution_count": null,
      "metadata": {
        "colab": {
          "base_uri": "https://localhost:8080/"
        },
        "id": "RzRQkDm6XKTn",
        "outputId": "944ad659-a9bb-45ce-ebb1-79e7aafb696e"
      },
      "outputs": [
        {
          "output_type": "execute_result",
          "data": {
            "text/plain": [
              "El código enigma                           7\n",
              "Star Wars: El Imperio contraataca          7\n",
              "¿Qué pasó ayer?                            6\n",
              "007 Operación Skyfall                      6\n",
              "Regreso al futuro                          5\n",
              "                                          ..\n",
              "Aceptados                                  1\n",
              "Jurassic World: Mundo Jurásico             1\n",
              "Desnudo                                    1\n",
              "Bruno y Botas: Tírense a la piscina        1\n",
              "Mighty Morphin Power Rangers: The Movie    1\n",
              "Name: Title, Length: 180, dtype: int64"
            ]
          },
          "metadata": {},
          "execution_count": 434
        }
      ],
      "source": [
        "#Para saber si una película es película o una serie es serie, lo que hacemos con esta función es primero descartar los Trailers, Clips, etc.\n",
        "#y luego nos fijamos cuántas veces aparecen los 2 puntos. Si aparecen menos de 2 veces, entonces es una película, y si aparece más,\n",
        "#entonces es una serie. Esta función la vamos a usar varias veces.\n",
        "def esPeli(pelis):\n",
        "  if ('hook') in pelis or ('Tráiler') in pelis or ('Clip') in pelis:\n",
        "    return False\n",
        "  numero = 0\n",
        "  for char in pelis:\n",
        "    if char == \":\":\n",
        "     numero += 1\n",
        "  if numero >= 2:\n",
        "    return False\n",
        "  return True\n",
        "\n",
        "#Aplicamos la función a los títulos         \n",
        "dfPelis = df[df['Title'].apply(esPeli)]\n",
        "\n",
        "#Mostramos las pelis con más ocurrencias y vemos que son 2\n",
        "dfPelis['Title'].value_counts()"
      ]
    },
    {
      "cell_type": "code",
      "source": [
        "#Mostramos las primeras 2 pelis, que son las más ocurrentes\n",
        "print('Las pelis más vistas son:', dfPelis['Title'].value_counts().index[0], 'y', dfPelis['Title'].value_counts().index[1])"
      ],
      "metadata": {
        "colab": {
          "base_uri": "https://localhost:8080/"
        },
        "id": "kjyVC0XdTdaF",
        "outputId": "51c34600-8e92-48c5-8540-9fb394b58b93"
      },
      "execution_count": null,
      "outputs": [
        {
          "output_type": "stream",
          "name": "stdout",
          "text": [
            "Las pelis más vistas son: El código enigma y Star Wars: El Imperio contraataca\n"
          ]
        }
      ]
    },
    {
      "cell_type": "code",
      "execution_count": null,
      "metadata": {
        "colab": {
          "base_uri": "https://localhost:8080/"
        },
        "id": "p6XxoV_jhxmg",
        "outputId": "8d4d61ac-e642-4ff6-eb47-d8d460825573"
      },
      "outputs": [
        {
          "output_type": "stream",
          "name": "stdout",
          "text": [
            "La peli con mayor duración total es: ('Star Wars: El Imperio contraataca', 29433)\n"
          ]
        }
      ],
      "source": [
        "#Esta función la utilizamos para cambiar el formato de Horas-Minutos-Segundos a segundos, lo que hacemos es splitear la duración cuando se encuentra con \n",
        "# unos ':' y así podemos tomar las horas mins y segs individualmente y convertirlos por separado a segundos para luego sumarlos a una variable\n",
        "def cant_segundos(duracion):\n",
        "  tiempo_segundos = 0\n",
        "  hor_min_seg = str(duracion).split(':')\n",
        "  horas= int(hor_min_seg[0])\n",
        "  minutos = int(hor_min_seg[1])\n",
        "  segundos = int(hor_min_seg[2])\n",
        "  tiempo_segundos += horas * 3600\n",
        "  tiempo_segundos += minutos * 60\n",
        "  tiempo_segundos += segundos\n",
        "  return tiempo_segundos\n",
        "\n",
        "#Creamos un dataFrame con las películas y una lista con los títulos de las mismas\n",
        "dfPelis = df[df['Title'].apply(esPeli)]\n",
        "\n",
        "titulos = dfPelis['Title']\n",
        "\n",
        "#Hacemos una lista con las duraciones en segundos\n",
        "duraciones = dfPelis ['Duration'].apply(cant_segundos)\n",
        "\n",
        "#Creamos 2 diccionarios; uno va a contener las duraciones y el otro va a tener los títulos\n",
        "d_todo ={}\n",
        "d_duraciones ={}\n",
        "\n",
        "\n",
        "#Al diccionario le agregamos todas las duraciones\n",
        "count = 0\n",
        "for duracion in duraciones:\n",
        "  d_duraciones[count] = duracion\n",
        "  count +=1\n",
        "\n",
        "#ESTAMOS MUY ORGULLOSOS DE ESTO\n",
        "#Nos fijamos si el título existe en el diccionario. Si no existe, el título se agrega al diccionario con su duración correspondiente\n",
        "# y si existe, esto significa que no necesitamos agregarlo al diccionario así que simplemente sumamos la duración\n",
        "count = 0\n",
        "for titulo in titulos:\n",
        "  if not titulo in d_todo:\n",
        "    d_todo[titulo] = d_duraciones[count]\n",
        "  else:\n",
        "    d_todo[titulo] += d_duraciones[count]\n",
        "  count += 1\n",
        "        \n",
        "#Ordenamos el diccionario de mayor a menor\n",
        "d_todo_ordenado = sorted(d_todo.items(), key=lambda x: x[1], reverse=True)\n",
        "\n",
        "#Mostramos la película con mayor duración total\n",
        "print(\"La peli con mayor duración total es:\", d_todo_ordenado[0])"
      ]
    },
    {
      "cell_type": "markdown",
      "metadata": {
        "id": "YjjSeQ_J5kPk"
      },
      "source": [
        "##C)"
      ]
    },
    {
      "cell_type": "code",
      "execution_count": null,
      "metadata": {
        "id": "CJHxiV8I5muN"
      },
      "outputs": [],
      "source": [
        "#Este N define la cantidad de series de nuestro top\n",
        "N = 10\n",
        "\n",
        "#Similar a esPeli, esta función descarta tráilers y clips y luego se fija la cantidad de ':' solo que ahora devuelve True si hay más de 2\n",
        "def esSerie(series):\n",
        "  if ('hook') in series or ('Tráiler') in series or ('Clip') in series:\n",
        "    return False\n",
        "  numero = 0\n",
        "  for char in series:\n",
        "    if char == \":\":\n",
        "     numero += 1\n",
        "  if numero >= 2:\n",
        "    return True\n",
        "  return False\n",
        "\n",
        "#Aplicamos esSerie a los títulos\n",
        "dfSeries = df[df['Title'].apply(esSerie)]"
      ]
    },
    {
      "cell_type": "code",
      "execution_count": null,
      "metadata": {
        "colab": {
          "base_uri": "https://localhost:8080/"
        },
        "id": "fq9bhkd7ETGJ",
        "outputId": "ac6872f2-c53f-427e-c1de-ced8a5d47ca9"
      },
      "outputs": [
        {
          "output_type": "stream",
          "name": "stdout",
          "text": [
            "El top 10 de series vistas por tiempo:\n"
          ]
        },
        {
          "output_type": "execute_result",
          "data": {
            "text/plain": [
              "[('Cómo conocí a tu madre', 816931),\n",
              " ('Community', 807438),\n",
              " ('Friends', 690936),\n",
              " ('La ley de los audaces', 637377),\n",
              " ('Doctor Who', 530325),\n",
              " ('Dr. House', 485376),\n",
              " ('Brooklyn Nine-Nine', 306755),\n",
              " ('Lost', 262502),\n",
              " ('Two and a Half Men', 235533),\n",
              " ('Breaking Bad', 202188)]"
            ]
          },
          "metadata": {},
          "execution_count": 438
        }
      ],
      "source": [
        "#Para obtener los nombres de las series, sin importar los capítulos spliteamos los títulos cuando aparece un ':' y tomamos el primer valor\n",
        "#Aclaración: Esto lo hacemos debido a que notamos que los títulos de las series cumplen con el siguiente formato: NOMBRE DE LA SERIE: TEMPORADA: ...\n",
        "def separarSeries (series):\n",
        "  nombreSerie = str(series).split(':')\n",
        "  return nombreSerie[0]\n",
        "\n",
        "#Creamos un dataFrame con las series y una lista con los títulos de las mismas\n",
        "dfSeries = df[df['Title'].apply(esSerie)]\n",
        "\n",
        "#Separamos los títulos por nombre de serie\n",
        "titulos = dfSeries['Title'].apply(separarSeries)\n",
        "\n",
        "#Hacemos una lista con las duraciones en segundos\n",
        "duraciones = dfSeries ['Duration'].apply(cant_segundos)\n",
        "\n",
        "#Creamos 2 diccionarios; uno va a contener las duraciones y el otro va a tener los títulos\n",
        "d_todo ={}\n",
        "d_duraciones ={}\n",
        "\n",
        "\n",
        "#Al diccionario le agregamos todas las duraciones\n",
        "count = 0\n",
        "for duracion in duraciones:\n",
        "  d_duraciones[count] = duracion\n",
        "  count +=1\n",
        "\n",
        "#Nos fijamos si el título existe en el diccionario. Si no existe, el título se agrega al diccionario con su duración correspondiente\n",
        "# y si existe, esto significa que no necesitamos agregarlo al diccionario así que simplemente sumamos la duración\n",
        "count = 0\n",
        "for titulo in titulos:\n",
        "  if not titulo in d_todo:\n",
        "    d_todo[titulo] = d_duraciones[count]\n",
        "  else:\n",
        "    d_todo[titulo] += d_duraciones[count]\n",
        "  count += 1\n",
        "        \n",
        "#Ordenamos el diccionario de mayor a menor\n",
        "d_todo_ordenado = sorted(d_todo.items(), key=lambda x: x[1], reverse=True)\n",
        "\n",
        "#Creamos nuestra lista que va a contener el TOP\n",
        "topSeriesTiempo = []\n",
        "\n",
        "#Appendeamos los primeros N valores a la lista\n",
        "count = 0\n",
        "while count < N:\n",
        "  topSeriesTiempo.append(d_todo_ordenado[count])\n",
        "  count+=1\n",
        "\n",
        "#Mostramos el TOP\n",
        "print('El top', N, 'de series vistas por tiempo:')\n",
        "topSeriesTiempo"
      ]
    },
    {
      "cell_type": "code",
      "source": [
        "#Creamos 2 listas en las cuales se almacenarán los títulos y el tiempo en segundos de las 10 series más vistas\n",
        "SeriesTiempoTitulos = []\n",
        "SeriesTiempoSegundos = []\n",
        "#Entramos a un bucle de la cantidad de series a analizar en donde separaremos los títulos de los segundos\n",
        "for i in topSeriesTiempo:\n",
        "  variable = str(i).split(\"',\") #Separamos donde hay un apostrofe y una coma, es decir, donde termina el nombre de la serie, capítulo, etc\n",
        "  SeriesTiempoTitulos.append(variable[0]) #Apendeamos los títulos en la primera lista\n",
        "  variable2 = str(variable[1]).split(')') #Separamos para que los segundos queden solos y así convertirlos en un int para que en el gráfico aparezca el 0 y se vea mejor\n",
        "  SeriesTiempoSegundos.append(int(variable2[0])) #Finalmente, apendeamos el número como int a la lista de segundos\n",
        "\n",
        "SeriesTiempoSegundos = SeriesTiempoSegundos[::-1] #Invertimos los valores del array para que se vea mejor el gráfico\n",
        "SeriesTiempoTitulos = SeriesTiempoTitulos[::-1] #Invertimos los títulos del array para que coincidan con los valores\n",
        "\n",
        "plt.figure(figsize=(32, 15)) #Cambiamos el tamaño del gráfico\n",
        "plt.bar(SeriesTiempoTitulos, SeriesTiempoSegundos, color=\"brown\") #Le pasamos los valores\n",
        "\n",
        "# Ponemos diferentes labels para entender mejor el gráifco \n",
        "plt.xlabel('Titulos de las Series', fontsize=30) \n",
        "plt.ylabel('Tiempo en Segundos', fontsize=30) \n",
        "plt.title('Las '+ str(N) + ' Series Más Vistas', fontsize=30)\n",
        "\n",
        "plt.xticks( #Rotamos los titulos para que no se sobrepongan y pasamos un par más de parametros para que el texto se vea correctamente\n",
        "    rotation=25, \n",
        "    horizontalalignment='right',\n",
        "    fontweight='light',\n",
        "    fontsize='15'\n",
        ")\n",
        "#Por último, lo mostramos \n",
        "plt.show()"
      ],
      "metadata": {
        "colab": {
          "base_uri": "https://localhost:8080/"
        },
        "id": "ELjbPveVqHki",
        "outputId": "06de197b-6d75-40f5-8b5f-f05b8e27a4de"
      },
      "execution_count": null,
      "outputs": [
        {
          "output_type": "display_data",
          "data": {
            "text/plain": [
              "<Figure size 2304x1080 with 1 Axes>"
            ],
            "image/png": "[encoded data removed]"
          },
          "metadata": {
            "needs_background": "light"
          }
        }
      ]
    },
    {
      "cell_type": "code",
      "execution_count": null,
      "metadata": {
        "colab": {
          "base_uri": "https://localhost:8080/"
        },
        "id": "JfTz0nETEMBU",
        "outputId": "0886f757-537c-45cd-8400-8b6f870d4765"
      },
      "outputs": [
        {
          "output_type": "stream",
          "name": "stdout",
          "text": [
            "El top 10 de series vistas por cantidad de ocurrencias:\n"
          ]
        },
        {
          "output_type": "execute_result",
          "data": {
            "text/plain": [
              "[('Community', 870),\n",
              " ('Cómo conocí a tu madre', 780),\n",
              " ('Friends', 604),\n",
              " ('Dr. House', 346),\n",
              " ('La ley de los audaces', 330),\n",
              " ('Brooklyn Nine-Nine', 314),\n",
              " ('Doctor Who', 279),\n",
              " ('Two and a Half Men', 229),\n",
              " (\"That '70s Show\", 170),\n",
              " ('Lost', 123)]"
            ]
          },
          "metadata": {},
          "execution_count": 440
        }
      ],
      "source": [
        "#Contamos la cantidad de veces que aparece cada título\n",
        "cantSeries = titulos.value_counts()\n",
        "\n",
        "#Creamos la lista que va a contener el TOP\n",
        "topSeriesOcurrencias = []\n",
        "\n",
        "#Appendeamos los primeros N valores a la lista\n",
        "count = 0\n",
        "for i in cantSeries.items():\n",
        "  topSeriesOcurrencias.append(i)\n",
        "  count +=1\n",
        "  if count == N:\n",
        "   break\n",
        "\n",
        "#Mostramos el TOP\n",
        "print('El top', N, 'de series vistas por cantidad de ocurrencias:')\n",
        "topSeriesOcurrencias"
      ]
    },
    {
      "cell_type": "code",
      "source": [
        "#Creamos 2 listas en las cuales se almacenarán los títulos y ocurrencias de las 10 series más vistas\n",
        "SeriesOcurrenciasTitulos = []\n",
        "SeriesOcurrencias = []\n",
        "#Entramos a un bucle de la cantidad de series a analizar en donde separaremos los títulos de las ocurrencias\n",
        "for i in topSeriesOcurrencias:\n",
        "  variable = str(i).split(\",\") #Separamos donde hay una coma, es decir, donde termina el nombre de la serie, capítulo, etc\n",
        "  SeriesOcurrenciasTitulos.append(variable[0]) #Apendeamos los títulos\n",
        "  variable2 = str(variable[1]).split(')') #Separamos para que la ocurrencia quede sola para que en el gráfico aparezca el 0 y se vea mejor\n",
        "  SeriesOcurrencias.append(int(variable2[0])) #Finalmente, aprendeamos el número a la lista de ocurrencias\n",
        "\n",
        "SeriesOcurrencias = SeriesOcurrencias[::-1] #Invertimos los valores del array para que se vea mejor el gráfico\n",
        "SeriesOcurrenciasTitulos = SeriesOcurrenciasTitulos[::-1] #Invertimos los títulos del array para que coincidan con los valores\n",
        "\n",
        "plt.figure(figsize=(32, 15)) #Cambiamos el tamaño del gráfico\n",
        "plt.bar(SeriesOcurrenciasTitulos, SeriesOcurrencias, color=\"brown\") #Le pasamos los valores\n",
        "\n",
        "# Ponemos diferentes labels para entender mejor el gráifco \n",
        "plt.xlabel('Titulos de las Series', fontsize=30) \n",
        "plt.ylabel('Cantidad de Ocurrencias', fontsize=30) \n",
        "plt.title('Las '+ str(N) + ' Series Más Vistas',  fontsize=30)\n",
        "\n",
        "plt.xticks( #Rotamos los titulos para que no se sobrepongan y pasamos un par más de parametros para que el texto se vea correctamente\n",
        "    rotation=25,\n",
        "    horizontalalignment='right',\n",
        "    fontweight='light',\n",
        "    fontsize='15'\n",
        ")\n",
        "#Por último, lo mostramos \n",
        "plt.show()"
      ],
      "metadata": {
        "colab": {
          "base_uri": "https://localhost:8080/"
        },
        "id": "qGEOF4TfM8Un",
        "outputId": "f8264ca5-a075-451e-c877-344d96dcd587"
      },
      "execution_count": null,
      "outputs": [
        {
          "output_type": "display_data",
          "data": {
            "text/plain": [
              "<Figure size 2304x1080 with 1 Axes>"
            ],
            "image/png": "[encoded data removed]"
          },
          "metadata": {
            "needs_background": "light"
          }
        }
      ]
    },
    {
      "cell_type": "markdown",
      "metadata": {
        "id": "z1o1C9tS5wOq"
      },
      "source": [
        "##D)"
      ]
    },
    {
      "cell_type": "code",
      "source": [
        "#Esta función nos permite pasar del formato año-mes-dia a simplemente el día de la semana\n",
        "def obtenerDias (dias):\n",
        "  año_mes_dia = dias[0:11]\n",
        "  return pd.Timestamp(año_mes_dia).day_name()\n",
        "\n",
        "#Esta función nos permite obtener un int con la hora en la que se vio cada título\n",
        "def obtenerHoras (horas):\n",
        "  hora = horas[11:13]\n",
        "  return int(hora)\n",
        "\n",
        "#Almacenamos los días y las horas\n",
        "dia = df['Start Time'].apply(obtenerDias)\n",
        "hora = df['Start Time'].apply(obtenerHoras)\n",
        "\n",
        "#Añadimos las columnas dia y hora con los valores obtenidos al dataFrame para poder leerlos en el heatmap\n",
        "df['dia'] = dia.values\n",
        "df['hora'] = hora.values\n",
        "\n",
        "#Creamos el Heatmap a partir de los valores\n",
        "dfHeatmap = pd.pivot_table(df,index=[\"hora\"], columns=[\"dia\"], fill_value=0)\n",
        "plt.figure(figsize=(15,15))\n",
        "sns.heatmap(dfHeatmap)"
      ],
      "metadata": {
        "colab": {
          "base_uri": "https://localhost:8080/"
        },
        "id": "8aUp3MplFZnl",
        "outputId": "fbf7ae35-bb5e-491b-ada0-dec0d332d5eb"
      },
      "execution_count": null,
      "outputs": [
        {
          "output_type": "execute_result",
          "data": {
            "text/plain": [
              "<matplotlib.axes._subplots.AxesSubplot at 0x7fee4b078b50>"
            ]
          },
          "metadata": {},
          "execution_count": 442
        },
        {
          "output_type": "display_data",
          "data": {
            "text/plain": [
              "<Figure size 1080x1080 with 2 Axes>"
            ],
            "image/png": "[encoded data removed]"
          },
          "metadata": {
            "needs_background": "light"
          }
        }
      ]
    },
    {
      "cell_type": "markdown",
      "metadata": {
        "id": "MmLPOq9oKXxO"
      },
      "source": [
        "##E"
      ]
    },
    {
      "cell_type": "code",
      "execution_count": null,
      "metadata": {
        "colab": {
          "base_uri": "https://localhost:8080/"
        },
        "id": "5kEI6EFgKZhp",
        "outputId": "a115ef81-e945-4d89-958b-ab15889c9bb2"
      },
      "outputs": [
        {
          "output_type": "stream",
          "name": "stdout",
          "text": [
            "Títulos vistos en el año 2015 : 1191\n",
            "Títulos vistos en el año 2016 : 807\n",
            "Títulos vistos en el año 2017 : 795\n",
            "Títulos vistos en el año 2018 : 916\n",
            "Títulos vistos en el año 2019 : 550\n",
            "Títulos vistos en el año 2020 : 1016\n",
            "Títulos vistos en el año 2021 : 722\n",
            "Títulos vistos en el año 2022 : 294\n"
          ]
        }
      ],
      "source": [
        "#Para separar los años, notamos que en Start Time primero aparece el año y luego se separa por un guion\n",
        "#así que separamos los Start time cuando aparece el guion y tomamos solo la primera parte\n",
        "def separar_años(serie):\n",
        "  años = 0\n",
        "  separarString = serie.split('-')\n",
        "  años = separarString[0]\n",
        "  return años\n",
        "\n",
        "#Aplicamos la función al dataFrame\n",
        "años = df['Start Time'].apply(separar_años)\n",
        "\n",
        "#Creamos las listas que nos van a servir para gráficar los años y la cantidad de títulos por año\n",
        "lista_años = []\n",
        "lista_cantidad= []\n",
        "l = 0\n",
        "i = 2015\n",
        "\n",
        "#Contamos todos los títulos entre el 2015 y el 2022 y los mostramos\n",
        "while i <= 2022:\n",
        "  print('Títulos vistos en el año', i, ':', años.value_counts()[str(i)])\n",
        "  lista_cantidad.append(años.value_counts()[str(i)])\n",
        "  lista_años.append(i)\n",
        "  i += 1\n",
        "  l +=1\n"
      ]
    },
    {
      "cell_type": "code",
      "source": [
        "#Para crear el gráfico le pasamos los años en el eje x y la cantidad de títulos vistos por años en el eje y\n",
        "plt.plot(lista_años, lista_cantidad,\n",
        "color='red',\n",
        "linestyle ='solid',\n",
        "linewidth = 2,\n",
        "marker = 'o',\n",
        "markerfacecolor='black',\n",
        "markersize =15)"
      ],
      "metadata": {
        "colab": {
          "base_uri": "https://localhost:8080/"
        },
        "id": "0UCruoNwPZcm",
        "outputId": "e743e15e-0f77-4d0c-99fa-1efb2fb1de11"
      },
      "execution_count": null,
      "outputs": [
        {
          "output_type": "execute_result",
          "data": {
            "text/plain": [
              "[<matplotlib.lines.Line2D at 0x7fee4b5d11d0>]"
            ]
          },
          "metadata": {},
          "execution_count": 444
        },
        {
          "output_type": "display_data",
          "data": {
            "text/plain": [
              "<Figure size 432x288 with 1 Axes>"
            ],
            "image/png": "[encoded data removed]"
          },
          "metadata": {
            "needs_background": "light"
          }
        }
      ]
    },
    {
      "cell_type": "markdown",
      "metadata": {
        "id": "ir_LYL8aKZ8f"
      },
      "source": [
        "##F"
      ]
    },
    {
      "cell_type": "code",
      "execution_count": null,
      "metadata": {
        "id": "7bMG5ki1Ka1u"
      },
      "outputs": [],
      "source": [
        "#Convertimos las duracion del dataFrame a segundos\n",
        "segundos = df['Duration'].apply(cant_segundos)\n",
        "\n",
        "#Sumamos todos los segundos de visualización\n",
        "totalSegundos = sum(segundos)\n",
        "\n",
        "#Dividimos la cantidad de segundos por 86400, ya que esa es la cantidad de segundos en un día\n",
        "totalDias = int(totalSegundos / 86400)\n",
        "\n"
      ]
    },
    {
      "cell_type": "code",
      "execution_count": null,
      "metadata": {
        "colab": {
          "base_uri": "https://localhost:8080/"
        },
        "id": "1JHqlBO4LgWW",
        "outputId": "a1cd4e93-9684-4058-eccc-50af4dd327e1"
      },
      "outputs": [
        {
          "output_type": "stream",
          "name": "stdout",
          "text": [
            "Total de días de todos los títulos reproducidos: 99\n"
          ]
        }
      ],
      "source": [
        "print('Total de días de todos los títulos reproducidos:', totalDias)"
      ]
    },
    {
      "cell_type": "markdown",
      "source": [
        "#Bonus 1"
      ],
      "metadata": {
        "id": "vmTHqFK9h55h"
      }
    },
    {
      "cell_type": "code",
      "source": [
        "#Para saber si una película es Star Wars, simplemente nos fijamos si contiene 'Star Wars:' en el título\n",
        "def starWars(peli):\n",
        "  if \"Star Wars:\" in peli:\n",
        "    return True\n",
        "  return False\n",
        "\n",
        "#Primero separamos las pelis ya que hay series de Star Wars\n",
        "dfPelis = df[df[\"Title\"].apply(esPeli)]\n",
        "\n",
        "#Luego nos fijamos las pelis que se llaman Star Wars\n",
        "dfStarWars = dfPelis[dfPelis['Title'].apply(starWars)]\n",
        "\n",
        "#Guardamos las duraciones de las películas de Star Wars en segundos\n",
        "duraciones = dfStarWars['Duration'].apply(cant_segundos)\n",
        "\n",
        "#Tomamos los títulos de Star Wars y los almacenamos en una variable\n",
        "titulos = dfStarWars['Title']\n",
        "\n",
        "#Creamos 2 diccionarios, uno va a contene las duraciones y el otro todo\n",
        "d_todo ={}\n",
        "d_duraciones ={}\n",
        "\n",
        "\n",
        "#Al diccionario le agregamos todas las duraciones\n",
        "count = 0\n",
        "for duracion in duraciones:\n",
        "  d_duraciones[count] = duracion\n",
        "  count +=1\n",
        "\n",
        "#Nos fijamos si el título existe en el diccionario. Si no existe, el título se agrega al diccionario con su duración correspondiente\n",
        "# y si existe, esto significa que no necesitamos agregarlo al diccionario así que simplemente sumamos la duración\n",
        "count = 0\n",
        "for titulo in titulos:\n",
        "  if not titulo in d_todo:\n",
        "    d_todo[titulo] = d_duraciones[count]\n",
        "  else:\n",
        "    d_todo[titulo] += d_duraciones[count]\n",
        "  count += 1\n",
        "\n",
        "#Ordenamos el diccionario de mayor a menor\n",
        "d_todo_ordenado = sorted(d_todo.items(), key=lambda x: x[1], reverse=True)\n",
        "\n",
        "#Mostramos la película con mayor duración total\n",
        "print(\"La peli de Star Wars con mayor duración total es:\", d_todo_ordenado[0])\n"
      ],
      "metadata": {
        "colab": {
          "base_uri": "https://localhost:8080/"
        },
        "id": "v9F_e4NVh8Xq",
        "outputId": "19adfb91-d522-4ef2-9f45-682544431a86"
      },
      "execution_count": null,
      "outputs": [
        {
          "output_type": "stream",
          "name": "stdout",
          "text": [
            "La peli de Star Wars con mayor duración total es: ('Star Wars: El Imperio contraataca', 29433)\n"
          ]
        }
      ]
    }
  ],
  "metadata": {
    "colab": {
      "collapsed_sections": [
        "_-UA3Qu1EdiM",
        "g9HhnzEHEbm_",
        "XhRTeanaK_oa",
        "YjjSeQ_J5kPk",
        "z1o1C9tS5wOq",
        "MmLPOq9oKXxO",
        "ir_LYL8aKZ8f",
        "vmTHqFK9h55h"
      ],
      "provenance": [],
      "include_colab_link": true
    },
    "kernelspec": {
      "display_name": "Python 3",
      "name": "python3"
    },
    "language_info": {
      "name": "python"
    }
  },
  "nbformat": 4,
  "nbformat_minor": 0
}